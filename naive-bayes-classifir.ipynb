{
 "cells": [
  {
   "cell_type": "code",
   "execution_count": 1,
   "id": "4aeab945",
   "metadata": {
    "_cell_guid": "b1076dfc-b9ad-4769-8c92-a6c4dae69d19",
    "_uuid": "8f2839f25d086af736a60e9eeb907d3b93b6e0e5",
    "execution": {
     "iopub.execute_input": "2022-10-22T03:53:11.366756Z",
     "iopub.status.busy": "2022-10-22T03:53:11.365710Z",
     "iopub.status.idle": "2022-10-22T03:53:11.376897Z",
     "shell.execute_reply": "2022-10-22T03:53:11.376111Z"
    },
    "papermill": {
     "duration": 0.020347,
     "end_time": "2022-10-22T03:53:11.379333",
     "exception": false,
     "start_time": "2022-10-22T03:53:11.358986",
     "status": "completed"
    },
    "tags": []
   },
   "outputs": [],
   "source": [
    "# This Python 3 environment comes with many helpful analytics libraries installed\n",
    "# It is defined by the kaggle/python Docker image: https://github.com/kaggle/docker-python\n",
    "# For example, here's several helpful packages to load\n",
    "\n",
    "import numpy as np # linear algebra\n",
    "import pandas as pd # data processing, CSV file I/O (e.g. pd.read_csv)\n",
    "\n",
    "# Input data files are available in the read-only \"../input/\" directory\n",
    "# For example, running this (by clicking run or pressing Shift+Enter) will list all files under the input directory\n",
    "\n",
    "import os\n",
    "for dirname, _, filenames in os.walk('/kaggle/input'):\n",
    "    for filename in filenames:\n",
    "        print(os.path.join(dirname, filename))\n",
    "\n",
    "# You can write up to 20GB to the current directory (/kaggle/working/) that gets preserved as output when you create a version using \"Save & Run All\" \n",
    "# You can also write temporary files to /kaggle/temp/, but they won't be saved outside of the current session"
   ]
  },
  {
   "cell_type": "code",
   "execution_count": 2,
   "id": "747d097a",
   "metadata": {
    "execution": {
     "iopub.execute_input": "2022-10-22T03:53:11.388951Z",
     "iopub.status.busy": "2022-10-22T03:53:11.388040Z",
     "iopub.status.idle": "2022-10-22T03:53:12.498775Z",
     "shell.execute_reply": "2022-10-22T03:53:12.497284Z"
    },
    "papermill": {
     "duration": 1.121887,
     "end_time": "2022-10-22T03:53:12.505227",
     "exception": false,
     "start_time": "2022-10-22T03:53:11.383340",
     "status": "completed"
    },
    "tags": []
   },
   "outputs": [
    {
     "name": "stdout",
     "output_type": "stream",
     "text": [
      "{'data': array([[1.423e+01, 1.710e+00, 2.430e+00, ..., 1.040e+00, 3.920e+00,\n",
      "        1.065e+03],\n",
      "       [1.320e+01, 1.780e+00, 2.140e+00, ..., 1.050e+00, 3.400e+00,\n",
      "        1.050e+03],\n",
      "       [1.316e+01, 2.360e+00, 2.670e+00, ..., 1.030e+00, 3.170e+00,\n",
      "        1.185e+03],\n",
      "       ...,\n",
      "       [1.327e+01, 4.280e+00, 2.260e+00, ..., 5.900e-01, 1.560e+00,\n",
      "        8.350e+02],\n",
      "       [1.317e+01, 2.590e+00, 2.370e+00, ..., 6.000e-01, 1.620e+00,\n",
      "        8.400e+02],\n",
      "       [1.413e+01, 4.100e+00, 2.740e+00, ..., 6.100e-01, 1.600e+00,\n",
      "        5.600e+02]]), 'target': array([0, 0, 0, 0, 0, 0, 0, 0, 0, 0, 0, 0, 0, 0, 0, 0, 0, 0, 0, 0, 0, 0,\n",
      "       0, 0, 0, 0, 0, 0, 0, 0, 0, 0, 0, 0, 0, 0, 0, 0, 0, 0, 0, 0, 0, 0,\n",
      "       0, 0, 0, 0, 0, 0, 0, 0, 0, 0, 0, 0, 0, 0, 0, 1, 1, 1, 1, 1, 1, 1,\n",
      "       1, 1, 1, 1, 1, 1, 1, 1, 1, 1, 1, 1, 1, 1, 1, 1, 1, 1, 1, 1, 1, 1,\n",
      "       1, 1, 1, 1, 1, 1, 1, 1, 1, 1, 1, 1, 1, 1, 1, 1, 1, 1, 1, 1, 1, 1,\n",
      "       1, 1, 1, 1, 1, 1, 1, 1, 1, 1, 1, 1, 1, 1, 1, 1, 1, 1, 1, 1, 2, 2,\n",
      "       2, 2, 2, 2, 2, 2, 2, 2, 2, 2, 2, 2, 2, 2, 2, 2, 2, 2, 2, 2, 2, 2,\n",
      "       2, 2, 2, 2, 2, 2, 2, 2, 2, 2, 2, 2, 2, 2, 2, 2, 2, 2, 2, 2, 2, 2,\n",
      "       2, 2]), 'frame': None, 'target_names': array(['class_0', 'class_1', 'class_2'], dtype='<U7'), 'DESCR': '.. _wine_dataset:\\n\\nWine recognition dataset\\n------------------------\\n\\n**Data Set Characteristics:**\\n\\n    :Number of Instances: 178 (50 in each of three classes)\\n    :Number of Attributes: 13 numeric, predictive attributes and the class\\n    :Attribute Information:\\n \\t\\t- Alcohol\\n \\t\\t- Malic acid\\n \\t\\t- Ash\\n\\t\\t- Alcalinity of ash  \\n \\t\\t- Magnesium\\n\\t\\t- Total phenols\\n \\t\\t- Flavanoids\\n \\t\\t- Nonflavanoid phenols\\n \\t\\t- Proanthocyanins\\n\\t\\t- Color intensity\\n \\t\\t- Hue\\n \\t\\t- OD280/OD315 of diluted wines\\n \\t\\t- Proline\\n\\n    - class:\\n            - class_0\\n            - class_1\\n            - class_2\\n\\t\\t\\n    :Summary Statistics:\\n    \\n    ============================= ==== ===== ======= =====\\n                                   Min   Max   Mean     SD\\n    ============================= ==== ===== ======= =====\\n    Alcohol:                      11.0  14.8    13.0   0.8\\n    Malic Acid:                   0.74  5.80    2.34  1.12\\n    Ash:                          1.36  3.23    2.36  0.27\\n    Alcalinity of Ash:            10.6  30.0    19.5   3.3\\n    Magnesium:                    70.0 162.0    99.7  14.3\\n    Total Phenols:                0.98  3.88    2.29  0.63\\n    Flavanoids:                   0.34  5.08    2.03  1.00\\n    Nonflavanoid Phenols:         0.13  0.66    0.36  0.12\\n    Proanthocyanins:              0.41  3.58    1.59  0.57\\n    Colour Intensity:              1.3  13.0     5.1   2.3\\n    Hue:                          0.48  1.71    0.96  0.23\\n    OD280/OD315 of diluted wines: 1.27  4.00    2.61  0.71\\n    Proline:                       278  1680     746   315\\n    ============================= ==== ===== ======= =====\\n\\n    :Missing Attribute Values: None\\n    :Class Distribution: class_0 (59), class_1 (71), class_2 (48)\\n    :Creator: R.A. Fisher\\n    :Donor: Michael Marshall (MARSHALL%PLU@io.arc.nasa.gov)\\n    :Date: July, 1988\\n\\nThis is a copy of UCI ML Wine recognition datasets.\\nhttps://archive.ics.uci.edu/ml/machine-learning-databases/wine/wine.data\\n\\nThe data is the results of a chemical analysis of wines grown in the same\\nregion in Italy by three different cultivators. There are thirteen different\\nmeasurements taken for different constituents found in the three types of\\nwine.\\n\\nOriginal Owners: \\n\\nForina, M. et al, PARVUS - \\nAn Extendible Package for Data Exploration, Classification and Correlation. \\nInstitute of Pharmaceutical and Food Analysis and Technologies,\\nVia Brigata Salerno, 16147 Genoa, Italy.\\n\\nCitation:\\n\\nLichman, M. (2013). UCI Machine Learning Repository\\n[https://archive.ics.uci.edu/ml]. Irvine, CA: University of California,\\nSchool of Information and Computer Science. \\n\\n.. topic:: References\\n\\n  (1) S. Aeberhard, D. Coomans and O. de Vel, \\n  Comparison of Classifiers in High Dimensional Settings, \\n  Tech. Rep. no. 92-02, (1992), Dept. of Computer Science and Dept. of  \\n  Mathematics and Statistics, James Cook University of North Queensland. \\n  (Also submitted to Technometrics). \\n\\n  The data was used with many others for comparing various \\n  classifiers. The classes are separable, though only RDA \\n  has achieved 100% correct classification. \\n  (RDA : 100%, QDA 99.4%, LDA 98.9%, 1NN 96.1% (z-transformed data)) \\n  (All results using the leave-one-out technique) \\n\\n  (2) S. Aeberhard, D. Coomans and O. de Vel, \\n  \"THE CLASSIFICATION PERFORMANCE OF RDA\" \\n  Tech. Rep. no. 92-01, (1992), Dept. of Computer Science and Dept. of \\n  Mathematics and Statistics, James Cook University of North Queensland. \\n  (Also submitted to Journal of Chemometrics).\\n', 'feature_names': ['alcohol', 'malic_acid', 'ash', 'alcalinity_of_ash', 'magnesium', 'total_phenols', 'flavanoids', 'nonflavanoid_phenols', 'proanthocyanins', 'color_intensity', 'hue', 'od280/od315_of_diluted_wines', 'proline']}\n"
     ]
    }
   ],
   "source": [
    "#loading the data set\n",
    "from sklearn import datasets\n",
    "\n",
    "wine=datasets.load_wine()\n",
    "print(wine)\n",
    "\n"
   ]
  },
  {
   "cell_type": "code",
   "execution_count": 3,
   "id": "26c88dc4",
   "metadata": {
    "execution": {
     "iopub.execute_input": "2022-10-22T03:53:12.518994Z",
     "iopub.status.busy": "2022-10-22T03:53:12.518380Z",
     "iopub.status.idle": "2022-10-22T03:53:12.523174Z",
     "shell.execute_reply": "2022-10-22T03:53:12.522330Z"
    },
    "papermill": {
     "duration": 0.014848,
     "end_time": "2022-10-22T03:53:12.526173",
     "exception": false,
     "start_time": "2022-10-22T03:53:12.511325",
     "status": "completed"
    },
    "tags": []
   },
   "outputs": [
    {
     "name": "stdout",
     "output_type": "stream",
     "text": [
      "['alcohol', 'malic_acid', 'ash', 'alcalinity_of_ash', 'magnesium', 'total_phenols', 'flavanoids', 'nonflavanoid_phenols', 'proanthocyanins', 'color_intensity', 'hue', 'od280/od315_of_diluted_wines', 'proline']\n"
     ]
    }
   ],
   "source": [
    "print(wine.feature_names)"
   ]
  },
  {
   "cell_type": "code",
   "execution_count": 4,
   "id": "6b3bec94",
   "metadata": {
    "execution": {
     "iopub.execute_input": "2022-10-22T03:53:12.540327Z",
     "iopub.status.busy": "2022-10-22T03:53:12.538476Z",
     "iopub.status.idle": "2022-10-22T03:53:12.583057Z",
     "shell.execute_reply": "2022-10-22T03:53:12.581972Z"
    },
    "papermill": {
     "duration": 0.053561,
     "end_time": "2022-10-22T03:53:12.585726",
     "exception": false,
     "start_time": "2022-10-22T03:53:12.532165",
     "status": "completed"
    },
    "tags": []
   },
   "outputs": [
    {
     "data": {
      "text/html": [
       "<div>\n",
       "<style scoped>\n",
       "    .dataframe tbody tr th:only-of-type {\n",
       "        vertical-align: middle;\n",
       "    }\n",
       "\n",
       "    .dataframe tbody tr th {\n",
       "        vertical-align: top;\n",
       "    }\n",
       "\n",
       "    .dataframe thead th {\n",
       "        text-align: right;\n",
       "    }\n",
       "</style>\n",
       "<table border=\"1\" class=\"dataframe\">\n",
       "  <thead>\n",
       "    <tr style=\"text-align: right;\">\n",
       "      <th></th>\n",
       "      <th>alcohol</th>\n",
       "      <th>malic_acid</th>\n",
       "      <th>ash</th>\n",
       "      <th>alcalinity_of_ash</th>\n",
       "      <th>magnesium</th>\n",
       "      <th>total_phenols</th>\n",
       "      <th>flavanoids</th>\n",
       "      <th>nonflavanoid_phenols</th>\n",
       "      <th>proanthocyanins</th>\n",
       "      <th>color_intensity</th>\n",
       "      <th>hue</th>\n",
       "      <th>od280/od315_of_diluted_wines</th>\n",
       "      <th>proline</th>\n",
       "      <th>class</th>\n",
       "    </tr>\n",
       "  </thead>\n",
       "  <tbody>\n",
       "    <tr>\n",
       "      <th>0</th>\n",
       "      <td>14.23</td>\n",
       "      <td>1.71</td>\n",
       "      <td>2.43</td>\n",
       "      <td>15.6</td>\n",
       "      <td>127.0</td>\n",
       "      <td>2.80</td>\n",
       "      <td>3.06</td>\n",
       "      <td>0.28</td>\n",
       "      <td>2.29</td>\n",
       "      <td>5.64</td>\n",
       "      <td>1.04</td>\n",
       "      <td>3.92</td>\n",
       "      <td>1065.0</td>\n",
       "      <td>class_0</td>\n",
       "    </tr>\n",
       "    <tr>\n",
       "      <th>1</th>\n",
       "      <td>13.20</td>\n",
       "      <td>1.78</td>\n",
       "      <td>2.14</td>\n",
       "      <td>11.2</td>\n",
       "      <td>100.0</td>\n",
       "      <td>2.65</td>\n",
       "      <td>2.76</td>\n",
       "      <td>0.26</td>\n",
       "      <td>1.28</td>\n",
       "      <td>4.38</td>\n",
       "      <td>1.05</td>\n",
       "      <td>3.40</td>\n",
       "      <td>1050.0</td>\n",
       "      <td>class_0</td>\n",
       "    </tr>\n",
       "    <tr>\n",
       "      <th>2</th>\n",
       "      <td>13.16</td>\n",
       "      <td>2.36</td>\n",
       "      <td>2.67</td>\n",
       "      <td>18.6</td>\n",
       "      <td>101.0</td>\n",
       "      <td>2.80</td>\n",
       "      <td>3.24</td>\n",
       "      <td>0.30</td>\n",
       "      <td>2.81</td>\n",
       "      <td>5.68</td>\n",
       "      <td>1.03</td>\n",
       "      <td>3.17</td>\n",
       "      <td>1185.0</td>\n",
       "      <td>class_0</td>\n",
       "    </tr>\n",
       "    <tr>\n",
       "      <th>3</th>\n",
       "      <td>14.37</td>\n",
       "      <td>1.95</td>\n",
       "      <td>2.50</td>\n",
       "      <td>16.8</td>\n",
       "      <td>113.0</td>\n",
       "      <td>3.85</td>\n",
       "      <td>3.49</td>\n",
       "      <td>0.24</td>\n",
       "      <td>2.18</td>\n",
       "      <td>7.80</td>\n",
       "      <td>0.86</td>\n",
       "      <td>3.45</td>\n",
       "      <td>1480.0</td>\n",
       "      <td>class_0</td>\n",
       "    </tr>\n",
       "    <tr>\n",
       "      <th>4</th>\n",
       "      <td>13.24</td>\n",
       "      <td>2.59</td>\n",
       "      <td>2.87</td>\n",
       "      <td>21.0</td>\n",
       "      <td>118.0</td>\n",
       "      <td>2.80</td>\n",
       "      <td>2.69</td>\n",
       "      <td>0.39</td>\n",
       "      <td>1.82</td>\n",
       "      <td>4.32</td>\n",
       "      <td>1.04</td>\n",
       "      <td>2.93</td>\n",
       "      <td>735.0</td>\n",
       "      <td>class_0</td>\n",
       "    </tr>\n",
       "  </tbody>\n",
       "</table>\n",
       "</div>"
      ],
      "text/plain": [
       "   alcohol  malic_acid   ash  alcalinity_of_ash  magnesium  total_phenols  \\\n",
       "0    14.23        1.71  2.43               15.6      127.0           2.80   \n",
       "1    13.20        1.78  2.14               11.2      100.0           2.65   \n",
       "2    13.16        2.36  2.67               18.6      101.0           2.80   \n",
       "3    14.37        1.95  2.50               16.8      113.0           3.85   \n",
       "4    13.24        2.59  2.87               21.0      118.0           2.80   \n",
       "\n",
       "   flavanoids  nonflavanoid_phenols  proanthocyanins  color_intensity   hue  \\\n",
       "0        3.06                  0.28             2.29             5.64  1.04   \n",
       "1        2.76                  0.26             1.28             4.38  1.05   \n",
       "2        3.24                  0.30             2.81             5.68  1.03   \n",
       "3        3.49                  0.24             2.18             7.80  0.86   \n",
       "4        2.69                  0.39             1.82             4.32  1.04   \n",
       "\n",
       "   od280/od315_of_diluted_wines  proline    class  \n",
       "0                          3.92   1065.0  class_0  \n",
       "1                          3.40   1050.0  class_0  \n",
       "2                          3.17   1185.0  class_0  \n",
       "3                          3.45   1480.0  class_0  \n",
       "4                          2.93    735.0  class_0  "
      ]
     },
     "execution_count": 4,
     "metadata": {},
     "output_type": "execute_result"
    }
   ],
   "source": [
    "df=pd.DataFrame(data=wine['data'],columns=wine['feature_names'])\n",
    "df['class']=wine['target']\n",
    "df['class']=df['class'].apply(lambda i:wine['target_names'][i])\n",
    "df.head()"
   ]
  },
  {
   "cell_type": "code",
   "execution_count": 5,
   "id": "01d4d813",
   "metadata": {
    "execution": {
     "iopub.execute_input": "2022-10-22T03:53:12.595792Z",
     "iopub.status.busy": "2022-10-22T03:53:12.595409Z",
     "iopub.status.idle": "2022-10-22T03:53:12.602265Z",
     "shell.execute_reply": "2022-10-22T03:53:12.601485Z"
    },
    "papermill": {
     "duration": 0.014092,
     "end_time": "2022-10-22T03:53:12.604185",
     "exception": false,
     "start_time": "2022-10-22T03:53:12.590093",
     "status": "completed"
    },
    "tags": []
   },
   "outputs": [],
   "source": [
    "X=df.iloc[:,:-1]\n",
    "y=df['class']\n"
   ]
  },
  {
   "cell_type": "code",
   "execution_count": 6,
   "id": "e852f869",
   "metadata": {
    "execution": {
     "iopub.execute_input": "2022-10-22T03:53:12.614936Z",
     "iopub.status.busy": "2022-10-22T03:53:12.614170Z",
     "iopub.status.idle": "2022-10-22T03:53:12.671185Z",
     "shell.execute_reply": "2022-10-22T03:53:12.670119Z"
    },
    "papermill": {
     "duration": 0.065495,
     "end_time": "2022-10-22T03:53:12.674184",
     "exception": false,
     "start_time": "2022-10-22T03:53:12.608689",
     "status": "completed"
    },
    "tags": []
   },
   "outputs": [],
   "source": [
    "#breaking the data into training and testing\n",
    "from sklearn.model_selection import train_test_split\n",
    "X_train,X_test,y_train,y_test=train_test_split(X,y,test_size=0.30,random_state=109)"
   ]
  },
  {
   "cell_type": "code",
   "execution_count": 7,
   "id": "9d78883b",
   "metadata": {
    "execution": {
     "iopub.execute_input": "2022-10-22T03:53:12.684552Z",
     "iopub.status.busy": "2022-10-22T03:53:12.684151Z",
     "iopub.status.idle": "2022-10-22T03:53:12.698899Z",
     "shell.execute_reply": "2022-10-22T03:53:12.696879Z"
    },
    "papermill": {
     "duration": 0.023037,
     "end_time": "2022-10-22T03:53:12.701596",
     "exception": false,
     "start_time": "2022-10-22T03:53:12.678559",
     "status": "completed"
    },
    "tags": []
   },
   "outputs": [
    {
     "name": "stdout",
     "output_type": "stream",
     "text": [
      "['class_0' 'class_0' 'class_1' 'class_2' 'class_0' 'class_1' 'class_0'\n",
      " 'class_0' 'class_1' 'class_0' 'class_2' 'class_2' 'class_2' 'class_2'\n",
      " 'class_0' 'class_1' 'class_1' 'class_0' 'class_0' 'class_1' 'class_2'\n",
      " 'class_1' 'class_0' 'class_2' 'class_0' 'class_0' 'class_1' 'class_2'\n",
      " 'class_0' 'class_1' 'class_2' 'class_1' 'class_1' 'class_0' 'class_1'\n",
      " 'class_1' 'class_0' 'class_2' 'class_2' 'class_0' 'class_2' 'class_1'\n",
      " 'class_0' 'class_0' 'class_0' 'class_2' 'class_2' 'class_0' 'class_1'\n",
      " 'class_1' 'class_2' 'class_0' 'class_0' 'class_2']\n"
     ]
    }
   ],
   "source": [
    "from sklearn.naive_bayes import GaussianNB\n",
    "gnb=GaussianNB()\n",
    "gnb.fit(X_train,y_train)\n",
    "y_pred=gnb.predict(X_test)\n",
    "print(y_pred)"
   ]
  },
  {
   "cell_type": "markdown",
   "id": "02bbc3d5",
   "metadata": {
    "papermill": {
     "duration": 0.003884,
     "end_time": "2022-10-22T03:53:12.709808",
     "exception": false,
     "start_time": "2022-10-22T03:53:12.705924",
     "status": "completed"
    },
    "tags": []
   },
   "source": [
    "next we are goingto check the accuracy and print the confusion matrix to check \n",
    "howmany are correct features our modelis guessing"
   ]
  },
  {
   "cell_type": "code",
   "execution_count": 8,
   "id": "334e17a8",
   "metadata": {
    "execution": {
     "iopub.execute_input": "2022-10-22T03:53:12.720586Z",
     "iopub.status.busy": "2022-10-22T03:53:12.719818Z",
     "iopub.status.idle": "2022-10-22T03:53:12.725781Z",
     "shell.execute_reply": "2022-10-22T03:53:12.725019Z"
    },
    "papermill": {
     "duration": 0.014213,
     "end_time": "2022-10-22T03:53:12.728094",
     "exception": false,
     "start_time": "2022-10-22T03:53:12.713881",
     "status": "completed"
    },
    "tags": []
   },
   "outputs": [
    {
     "name": "stdout",
     "output_type": "stream",
     "text": [
      "0.9074074074074074\n"
     ]
    }
   ],
   "source": [
    "from sklearn import metrics\n",
    "print(metrics.accuracy_score(y_test,y_pred))"
   ]
  },
  {
   "cell_type": "code",
   "execution_count": 9,
   "id": "2305f215",
   "metadata": {
    "execution": {
     "iopub.execute_input": "2022-10-22T03:53:12.738317Z",
     "iopub.status.busy": "2022-10-22T03:53:12.737928Z",
     "iopub.status.idle": "2022-10-22T03:53:12.751350Z",
     "shell.execute_reply": "2022-10-22T03:53:12.749949Z"
    },
    "papermill": {
     "duration": 0.024316,
     "end_time": "2022-10-22T03:53:12.756607",
     "exception": false,
     "start_time": "2022-10-22T03:53:12.732291",
     "status": "completed"
    },
    "tags": []
   },
   "outputs": [
    {
     "data": {
      "text/plain": [
       "array([[20,  1,  0],\n",
       "       [ 2, 15,  2],\n",
       "       [ 0,  0, 14]])"
      ]
     },
     "execution_count": 9,
     "metadata": {},
     "output_type": "execute_result"
    }
   ],
   "source": [
    "from sklearn.metrics import confusion_matrix\n",
    "cm=np.array(confusion_matrix(y_test,y_pred))\n",
    "cm"
   ]
  },
  {
   "cell_type": "markdown",
   "id": "65c429ed",
   "metadata": {
    "papermill": {
     "duration": 0.004142,
     "end_time": "2022-10-22T03:53:12.765245",
     "exception": false,
     "start_time": "2022-10-22T03:53:12.761103",
     "status": "completed"
    },
    "tags": []
   },
   "source": [
    "# Notes\n",
    "1. To check how good our model is,we have obtained the accuracy of our model.\n",
    "1. Here we calculated both confusion matrix and accuracy.\n",
    "1. 1. We can see from the confusion matrix that our model has predicted a total of 5 values wrong and are correct prediction."
   ]
  },
  {
   "cell_type": "code",
   "execution_count": null,
   "id": "c0ade49b",
   "metadata": {
    "papermill": {
     "duration": 0.003969,
     "end_time": "2022-10-22T03:53:12.773461",
     "exception": false,
     "start_time": "2022-10-22T03:53:12.769492",
     "status": "completed"
    },
    "tags": []
   },
   "outputs": [],
   "source": []
  },
  {
   "cell_type": "code",
   "execution_count": null,
   "id": "b18d6c95",
   "metadata": {
    "papermill": {
     "duration": 0.003943,
     "end_time": "2022-10-22T03:53:12.781714",
     "exception": false,
     "start_time": "2022-10-22T03:53:12.777771",
     "status": "completed"
    },
    "tags": []
   },
   "outputs": [],
   "source": []
  }
 ],
 "metadata": {
  "kernelspec": {
   "display_name": "Python 3",
   "language": "python",
   "name": "python3"
  },
  "language_info": {
   "codemirror_mode": {
    "name": "ipython",
    "version": 3
   },
   "file_extension": ".py",
   "mimetype": "text/x-python",
   "name": "python",
   "nbconvert_exporter": "python",
   "pygments_lexer": "ipython3",
   "version": "3.7.12"
  },
  "papermill": {
   "default_parameters": {},
   "duration": 10.536193,
   "end_time": "2022-10-22T03:53:13.506480",
   "environment_variables": {},
   "exception": null,
   "input_path": "__notebook__.ipynb",
   "output_path": "__notebook__.ipynb",
   "parameters": {},
   "start_time": "2022-10-22T03:53:02.970287",
   "version": "2.3.4"
  }
 },
 "nbformat": 4,
 "nbformat_minor": 5
}
